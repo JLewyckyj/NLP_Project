{
 "cells": [
  {
   "cell_type": "code",
   "execution_count": 2,
   "metadata": {},
   "outputs": [],
   "source": [
    "import matplotlib\n",
    "%matplotlib inline\n",
    "import matplotlib.pyplot as plt\n",
    "import pandas as pd\n",
    "import string\n",
    "import numpy as np\n",
    "import re\n",
    "import nltk\n",
    "from nltk.tokenize import sent_tokenize, word_tokenize\n",
    "import pickle\n",
    "from sklearn import metrics\n",
    "from sklearn.feature_extraction.text import TfidfVectorizer\n",
    "from sklearn.model_selection import train_test_split\n",
    "import fasttext\n",
    "from sklearn.metrics import accuracy_score, confusion_matrix, precision_score, recall_score, f1_score, classification_report"
   ]
  },
  {
   "cell_type": "code",
   "execution_count": 3,
   "metadata": {},
   "outputs": [],
   "source": [
    "#Load artifacts from file\n",
    "##Pre-Processed pitchers full dataset\n",
    "with open('Artifacts/pit_data.pkl', 'rb') as filehandle:\n",
    "    pit = pickle.load(filehandle)\n",
    "    \n",
    "##Pre-Processed hitters full dataset\n",
    "with open('Artifacts/hit_data.pkl', 'rb') as filehandle:\n",
    "    hit = pickle.load(filehandle)"
   ]
  },
  {
   "cell_type": "code",
   "execution_count": 4,
   "metadata": {},
   "outputs": [],
   "source": [
    "#Transform label + report into format for fasttext\n",
    "pit['ft_Report'] = pit.apply(lambda r: '__label__' + str(r['FV_r']) + ' ' + str(r['Report']), axis=1)\n",
    "hit['ft_Report'] = hit.apply(lambda r: '__label__' + str(r['FV_r']) + ' ' + str(r['Report']), axis=1)"
   ]
  },
  {
   "cell_type": "code",
   "execution_count": 5,
   "metadata": {},
   "outputs": [],
   "source": [
    "#Functions for extracting label\n",
    "def left(s, amount):\n",
    "    return s[:amount]\n",
    "\n",
    "def right(s, amount):\n",
    "    return s[-amount:]"
   ]
  },
  {
   "cell_type": "code",
   "execution_count": 6,
   "metadata": {},
   "outputs": [],
   "source": [
    "#Resampling\n",
    "pit_1 = pit[pit['FV_r'] == 1]\n",
    "pit_2 = pit[pit['FV_r'] == 2]\n",
    "pit_3 = pit[pit['FV_r'] == 3]\n",
    "#Upsampling\n",
    "pit_2_over = pit_2.sample(len(pit_1), replace=True)\n",
    "pit_3_over = pit_3.sample(len(pit_1), replace=True)\n",
    "pit_upsample = pd.concat([pit_1, pit_2_over, pit_3_over], axis=0)\n",
    "#Downsampling\n",
    "pit_1_under = pit_1.sample(len(pit_3), replace=True)\n",
    "pit_2_under = pit_2.sample(len(pit_3), replace=True)\n",
    "pit_downsample = pd.concat([pit_1_under, pit_2_under, pit_3], axis=0)"
   ]
  },
  {
   "cell_type": "markdown",
   "metadata": {},
   "source": [
    "# Pitcher Model"
   ]
  },
  {
   "cell_type": "code",
   "execution_count": 7,
   "metadata": {},
   "outputs": [
    {
     "name": "stdout",
     "output_type": "stream",
     "text": [
      "[[121   0   0]\n",
      " [109   0   0]\n",
      " [ 97   0   0]]\n"
     ]
    }
   ],
   "source": [
    "#Model 1: 1gram, default parameters\n",
    "\n",
    "#Train-Test Split\n",
    "X_train, X_test, y_train, y_test = train_test_split(pit_upsample['ft_Report'], pit_upsample['FV_r'], test_size=0.25, random_state=123)\n",
    "X_train.to_csv('fasttext_pit_train.csv', index=False, header=False)\n",
    "\n",
    "ft_pit_1gram_1 = fasttext.train_supervised(input='fasttext_pit_train.csv',\n",
    "                                     label_prefix='__label__',\n",
    "                                     wordNgrams=1,\n",
    "                                     loss='hs')\n",
    "\n",
    "evaluations = []\n",
    "for i in X_test:\n",
    "    i = i.replace('\\n', '')\n",
    "    poop = ft_pit_1gram_1.predict(i)\n",
    "    evaluations.append(poop)\n",
    "    \n",
    "X_test_confusion = []\n",
    "for i in X_test:\n",
    "    j = left(i, 10)\n",
    "    k = right(j, 1)\n",
    "    X_test_confusion.append(k)\n",
    "    \n",
    "evaluations_confusion = []\n",
    "for i in evaluations:\n",
    "    j = i[0][0]\n",
    "    k = left(j, 10)\n",
    "    l = right(k, 1)\n",
    "    evaluations_confusion.append(l)\n",
    "    \n",
    "model_matrix = confusion_matrix(X_test_confusion, evaluations_confusion)\n",
    "print(model_matrix)"
   ]
  },
  {
   "cell_type": "code",
   "execution_count": null,
   "metadata": {},
   "outputs": [],
   "source": []
  }
 ],
 "metadata": {
  "kernelspec": {
   "display_name": "Python 3",
   "language": "python",
   "name": "python3"
  },
  "language_info": {
   "codemirror_mode": {
    "name": "ipython",
    "version": 3
   },
   "file_extension": ".py",
   "mimetype": "text/x-python",
   "name": "python",
   "nbconvert_exporter": "python",
   "pygments_lexer": "ipython3",
   "version": "3.6.8"
  }
 },
 "nbformat": 4,
 "nbformat_minor": 2
}
