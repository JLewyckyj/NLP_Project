{
 "cells": [
  {
   "cell_type": "code",
   "execution_count": 1,
   "metadata": {},
   "outputs": [],
   "source": [
    "import matplotlib\n",
    "%matplotlib inline\n",
    "import matplotlib.pyplot as plt\n",
    "import pandas as pd\n",
    "import string\n",
    "import numpy as np\n",
    "import re\n",
    "import nltk\n",
    "from nltk.tokenize import sent_tokenize, word_tokenize\n",
    "import pickle\n",
    "from sklearn import metrics\n",
    "from sklearn.feature_extraction.text import TfidfVectorizer\n",
    "from sklearn.model_selection import train_test_split\n",
    "from sklearn.svm import LinearSVC\n",
    "from sklearn.metrics import accuracy_score, confusion_matrix, precision_score, recall_score, f1_score, classification_report"
   ]
  },
  {
   "cell_type": "code",
   "execution_count": 2,
   "metadata": {},
   "outputs": [],
   "source": [
    "#Load artifacts from file\n",
    "##Pre-Processed pitchers full dataset\n",
    "with open('Artifacts/pit_data.pkl', 'rb') as filehandle:\n",
    "    pit = pickle.load(filehandle)\n",
    "    \n",
    "##Pre-Processed hitters full dataset\n",
    "with open('Artifacts/hit_data.pkl', 'rb') as filehandle:\n",
    "    hit = pickle.load(filehandle)\n",
    "    \n",
    "##Various tfidf vectorized datasets\n",
    "with open('Artifacts/pit_tfidf1_features.pkl', 'rb') as filehandle:\n",
    "    pit_tfidf1_features = pickle.load(filehandle)\n",
    "with open('Artifacts/pit_tfidf2_features.pkl', 'rb') as filehandle:\n",
    "    pit_tfidf2_features = pickle.load(filehandle)\n",
    "with open('Artifacts/pit_tfidf3_features.pkl', 'rb') as filehandle:\n",
    "    pit_tfidf3_features = pickle.load(filehandle)\n",
    "with open('Artifacts/hit_tfidf1_features.pkl', 'rb') as filehandle:\n",
    "    hit_tfidf1_features = pickle.load(filehandle)\n",
    "with open('Artifacts/hit_tfidf2_features.pkl', 'rb') as filehandle:\n",
    "    hit_tfidf2_features = pickle.load(filehandle)\n",
    "with open('Artifacts/hit_tfidf3_features.pkl', 'rb') as filehandle:\n",
    "    hit_tfidf3_features = pickle.load(filehandle)"
   ]
  },
  {
   "cell_type": "markdown",
   "metadata": {},
   "source": [
    "# Pitcher Models"
   ]
  },
  {
   "cell_type": "code",
   "execution_count": 66,
   "metadata": {},
   "outputs": [
    {
     "name": "stdout",
     "output_type": "stream",
     "text": [
      "Accuracy: 0.811\n",
      "[[109   5   1]\n",
      " [ 15   8   0]\n",
      " [  4   3   3]]\n",
      "              precision    recall  f1-score   support\n",
      "\n",
      "         1.0       0.85      0.95      0.90       115\n",
      "         2.0       0.50      0.35      0.41        23\n",
      "         3.0       0.75      0.30      0.43        10\n",
      "\n",
      "    accuracy                           0.81       148\n",
      "   macro avg       0.70      0.53      0.58       148\n",
      "weighted avg       0.79      0.81      0.79       148\n",
      "\n"
     ]
    }
   ],
   "source": [
    "#1gram\n",
    "\n",
    "#Train-Test Split\n",
    "X_train, X_test, y_train, y_test = train_test_split(pit_tfidf1_features, pit['FV_r'], test_size=0.25, random_state=123)\n",
    "\n",
    "#Fit Model\n",
    "svm_pit_1gram_1 = LinearSVC(penalty = 'l2', loss = 'hinge', C=0.9, tol=1e-4, multi_class = 'ovr', class_weight = 'balanced', max_iter=1000, random_state=123)\n",
    "svm_pit_1gram_1.fit(X_train, y_train)\n",
    "\n",
    "#Predict on Test Set\n",
    "\n",
    "svm_pit_1gram_1_predictions = svm_pit_1gram_1.predict(X_test)\n",
    "\n",
    "# evaluation metrics\n",
    "print(\"Accuracy: %0.3f\"%accuracy_score(y_test, svm_pit_1gram_1_predictions))\n",
    "cnf_matrix = metrics.confusion_matrix(y_test, svm_pit_1gram_1_predictions)\n",
    "print(cnf_matrix)\n",
    "print(classification_report(y_test, svm_pit_1gram_1_predictions))"
   ]
  },
  {
   "cell_type": "code",
   "execution_count": 62,
   "metadata": {},
   "outputs": [
    {
     "name": "stdout",
     "output_type": "stream",
     "text": [
      "Accuracy: 0.791\n",
      "[[106   8   1]\n",
      " [ 15   8   0]\n",
      " [  4   3   3]]\n",
      "              precision    recall  f1-score   support\n",
      "\n",
      "         1.0       0.85      0.92      0.88       115\n",
      "         2.0       0.42      0.35      0.38        23\n",
      "         3.0       0.75      0.30      0.43        10\n",
      "\n",
      "    accuracy                           0.79       148\n",
      "   macro avg       0.67      0.52      0.56       148\n",
      "weighted avg       0.78      0.79      0.77       148\n",
      "\n"
     ]
    }
   ],
   "source": [
    "#2gram\n",
    "\n",
    "#Train-Test Split\n",
    "X_train, X_test, y_train, y_test = train_test_split(pit_tfidf2_features, pit['FV_r'], test_size=0.25, random_state=123)\n",
    "\n",
    "#Fit Model\n",
    "svm_pit_2gram_1 = LinearSVC(penalty = 'l2', loss = 'hinge', C=1.3, tol=1e-4, multi_class = 'ovr', class_weight = 'balanced', max_iter=1000, random_state=123)\n",
    "svm_pit_2gram_1.fit(X_train, y_train)\n",
    "\n",
    "#Predict on Test Set\n",
    "\n",
    "svm_pit_2gram_1_predictions = svm_pit_2gram_1.predict(X_test)\n",
    "\n",
    "# evaluation metrics\n",
    "print(\"Accuracy: %0.3f\"%accuracy_score(y_test, svm_pit_2gram_1_predictions))\n",
    "cnf_matrix = metrics.confusion_matrix(y_test, svm_pit_2gram_1_predictions)\n",
    "print(cnf_matrix)\n",
    "print(classification_report(y_test, svm_pit_2gram_1_predictions))"
   ]
  },
  {
   "cell_type": "code",
   "execution_count": 75,
   "metadata": {},
   "outputs": [
    {
     "name": "stdout",
     "output_type": "stream",
     "text": [
      "Accuracy: 0.791\n",
      "[[108   6   1]\n",
      " [ 17   6   0]\n",
      " [  3   4   3]]\n",
      "              precision    recall  f1-score   support\n",
      "\n",
      "         1.0       0.84      0.94      0.89       115\n",
      "         2.0       0.38      0.26      0.31        23\n",
      "         3.0       0.75      0.30      0.43        10\n",
      "\n",
      "    accuracy                           0.79       148\n",
      "   macro avg       0.66      0.50      0.54       148\n",
      "weighted avg       0.76      0.79      0.77       148\n",
      "\n"
     ]
    }
   ],
   "source": [
    "#3gram\n",
    "\n",
    "#Train-Test Split\n",
    "X_train, X_test, y_train, y_test = train_test_split(pit_tfidf3_features, pit['FV_r'], test_size=0.25, random_state=123)\n",
    "\n",
    "#Fit Model\n",
    "svm_pit_3gram_1 = LinearSVC(penalty = 'l2', loss = 'hinge', C=0.9, tol=1e-4, multi_class = 'ovr', class_weight = 'balanced', max_iter=1000, random_state=123)\n",
    "svm_pit_3gram_1.fit(X_train, y_train)\n",
    "\n",
    "#Predict on Test Set\n",
    "\n",
    "svm_pit_3gram_1_predictions = svm_pit_3gram_1.predict(X_test)\n",
    "0\n",
    "# evaluation metrics\n",
    "print(\"Accuracy: %0.3f\"%accuracy_score(y_test, svm_pit_3gram_1_predictions))\n",
    "cnf_matrix = metrics.confusion_matrix(y_test, svm_pit_3gram_1_predictions)\n",
    "print(cnf_matrix)\n",
    "print(classification_report(y_test, svm_pit_3gram_1_predictions))"
   ]
  },
  {
   "cell_type": "markdown",
   "metadata": {},
   "source": [
    "# Hitter Models"
   ]
  },
  {
   "cell_type": "code",
   "execution_count": 87,
   "metadata": {},
   "outputs": [
    {
     "name": "stdout",
     "output_type": "stream",
     "text": [
      "Accuracy: 0.630\n",
      "[[75 17  7]\n",
      " [20 22  4]\n",
      " [ 4  8  5]]\n",
      "              precision    recall  f1-score   support\n",
      "\n",
      "         1.0       0.76      0.76      0.76        99\n",
      "         2.0       0.47      0.48      0.47        46\n",
      "         3.0       0.31      0.29      0.30        17\n",
      "\n",
      "    accuracy                           0.63       162\n",
      "   macro avg       0.51      0.51      0.51       162\n",
      "weighted avg       0.63      0.63      0.63       162\n",
      "\n"
     ]
    }
   ],
   "source": [
    "#1gram\n",
    "\n",
    "#Train-Test Split\n",
    "X_train, X_test, y_train, y_test = train_test_split(hit_tfidf1_features, hit['FV_r'], test_size=0.25, random_state=123)\n",
    "\n",
    "#Fit Model\n",
    "svm_hit_1gram_1 = LinearSVC(penalty = 'l2', loss = 'hinge', C=1.4, tol=1e-4, multi_class = 'ovr', class_weight = 'balanced', max_iter=1000, random_state=123)\n",
    "svm_hit_1gram_1.fit(X_train, y_train)\n",
    "\n",
    "#Predict on Test Set\n",
    "\n",
    "svm_hit_1gram_1_predictions = svm_hit_1gram_1.predict(X_test)\n",
    "\n",
    "# evaluation metrics\n",
    "print(\"Accuracy: %0.3f\"%accuracy_score(y_test, svm_hit_1gram_1_predictions))\n",
    "cnf_matrix = metrics.confusion_matrix(y_test, svm_hit_1gram_1_predictions)\n",
    "print(cnf_matrix)\n",
    "print(classification_report(y_test, svm_hit_1gram_1_predictions))"
   ]
  },
  {
   "cell_type": "code",
   "execution_count": 103,
   "metadata": {},
   "outputs": [
    {
     "name": "stdout",
     "output_type": "stream",
     "text": [
      "Accuracy: 0.636\n",
      "[[74 19  6]\n",
      " [17 25  4]\n",
      " [ 5  8  4]]\n",
      "              precision    recall  f1-score   support\n",
      "\n",
      "         1.0       0.77      0.75      0.76        99\n",
      "         2.0       0.48      0.54      0.51        46\n",
      "         3.0       0.29      0.24      0.26        17\n",
      "\n",
      "    accuracy                           0.64       162\n",
      "   macro avg       0.51      0.51      0.51       162\n",
      "weighted avg       0.64      0.64      0.64       162\n",
      "\n"
     ]
    }
   ],
   "source": [
    "#2gram\n",
    "\n",
    "#Train-Test Split\n",
    "X_train, X_test, y_train, y_test = train_test_split(hit_tfidf2_features, hit['FV_r'], test_size=0.25, random_state=123)\n",
    "\n",
    "#Fit Model\n",
    "svm_hit_2gram_1 = LinearSVC(penalty = 'l2', loss = 'hinge', C=1.1, tol=1e-4, multi_class = 'ovr', class_weight = 'balanced', max_iter=1000, random_state=123)\n",
    "svm_hit_2gram_1.fit(X_train, y_train)\n",
    "\n",
    "#Predict on Test Set\n",
    "\n",
    "svm_hit_2gram_1_predictions = svm_hit_2gram_1.predict(X_test)\n",
    "\n",
    "# evaluation metrics\n",
    "print(\"Accuracy: %0.3f\"%accuracy_score(y_test, svm_hit_2gram_1_predictions))\n",
    "cnf_matrix = metrics.confusion_matrix(y_test, svm_hit_2gram_1_predictions)\n",
    "print(cnf_matrix)\n",
    "print(classification_report(y_test, svm_hit_2gram_1_predictions))"
   ]
  },
  {
   "cell_type": "code",
   "execution_count": 113,
   "metadata": {},
   "outputs": [
    {
     "name": "stdout",
     "output_type": "stream",
     "text": [
      "Accuracy: 0.648\n",
      "[[76 16  7]\n",
      " [17 25  4]\n",
      " [ 5  8  4]]\n",
      "              precision    recall  f1-score   support\n",
      "\n",
      "         1.0       0.78      0.77      0.77        99\n",
      "         2.0       0.51      0.54      0.53        46\n",
      "         3.0       0.27      0.24      0.25        17\n",
      "\n",
      "    accuracy                           0.65       162\n",
      "   macro avg       0.52      0.52      0.52       162\n",
      "weighted avg       0.65      0.65      0.65       162\n",
      "\n"
     ]
    }
   ],
   "source": [
    "#3gram\n",
    "\n",
    "#Train-Test Split\n",
    "X_train, X_test, y_train, y_test = train_test_split(hit_tfidf3_features, hit['FV_r'], test_size=0.25, random_state=123)\n",
    "\n",
    "#Fit Model\n",
    "svm_hit_3gram_1 = LinearSVC(penalty = 'l2', loss = 'hinge', C=1.0, tol=1e-4, multi_class = 'ovr', class_weight = 'balanced', max_iter=1000, random_state=123)\n",
    "svm_hit_3gram_1.fit(X_train, y_train)\n",
    "\n",
    "#Predict on Test Set\n",
    "\n",
    "svm_hit_3gram_1_predictions = svm_hit_3gram_1.predict(X_test)\n",
    "\n",
    "# evaluation metrics\n",
    "print(\"Accuracy: %0.3f\"%accuracy_score(y_test, svm_hit_3gram_1_predictions))\n",
    "cnf_matrix = metrics.confusion_matrix(y_test, svm_hit_3gram_1_predictions)\n",
    "print(cnf_matrix)\n",
    "print(classification_report(y_test, svm_hit_3gram_1_predictions))"
   ]
  },
  {
   "cell_type": "code",
   "execution_count": 114,
   "metadata": {},
   "outputs": [],
   "source": [
    "#Save best model(s)\n",
    "\n",
    "with open('Artifacts/svm_hit_3gram_1.pkl', 'wb') as filehandle:\n",
    "    pickle.dump(svm_hit_3gram_1, filehandle)"
   ]
  }
 ],
 "metadata": {
  "kernelspec": {
   "display_name": "Python 3",
   "language": "python",
   "name": "python3"
  },
  "language_info": {
   "codemirror_mode": {
    "name": "ipython",
    "version": 3
   },
   "file_extension": ".py",
   "mimetype": "text/x-python",
   "name": "python",
   "nbconvert_exporter": "python",
   "pygments_lexer": "ipython3",
   "version": "3.6.8"
  }
 },
 "nbformat": 4,
 "nbformat_minor": 2
}
