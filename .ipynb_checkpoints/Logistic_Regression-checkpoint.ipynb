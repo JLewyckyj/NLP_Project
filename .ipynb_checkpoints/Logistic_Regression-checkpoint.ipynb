{
 "cells": [
  {
   "cell_type": "code",
   "execution_count": 1,
   "metadata": {},
   "outputs": [],
   "source": [
    "import matplotlib\n",
    "%matplotlib inline\n",
    "import matplotlib.pyplot as plt\n",
    "import pandas as pd\n",
    "import string\n",
    "import numpy as np\n",
    "import re\n",
    "import nltk\n",
    "from nltk.tokenize import sent_tokenize, word_tokenize\n",
    "import pickle\n",
    "from sklearn import metrics\n",
    "from sklearn.feature_extraction.text import TfidfVectorizer\n",
    "from sklearn.model_selection import train_test_split\n",
    "from sklearn.linear_model import LogisticRegression\n",
    "from sklearn.metrics import accuracy_score, confusion_matrix, precision_score, recall_score, f1_score, classification_report"
   ]
  },
  {
   "cell_type": "code",
   "execution_count": 2,
   "metadata": {},
   "outputs": [],
   "source": [
    "#Load artifacts from file\n",
    "##Pre-Processed pitchers full dataset\n",
    "with open('Artifacts/pit_data.pkl', 'rb') as filehandle:\n",
    "    pit = pickle.load(filehandle)\n",
    "    \n",
    "##Pre-Processed hitters full dataset\n",
    "with open('Artifacts/hit_data.pkl', 'rb') as filehandle:\n",
    "    hit = pickle.load(filehandle)\n",
    "    \n",
    "##Various tfidf vectorized datasets\n",
    "with open('Artifacts/pit_tfidf1_features.pkl', 'rb') as filehandle:\n",
    "    pit_tfidf1_features = pickle.load(filehandle)\n",
    "with open('Artifacts/pit_tfidf2_features.pkl', 'rb') as filehandle:\n",
    "    pit_tfidf2_features = pickle.load(filehandle)\n",
    "with open('Artifacts/pit_tfidf3_features.pkl', 'rb') as filehandle:\n",
    "    pit_tfidf3_features = pickle.load(filehandle)\n",
    "with open('Artifacts/hit_tfidf1_features.pkl', 'rb') as filehandle:\n",
    "    hit_tfidf1_features = pickle.load(filehandle)\n",
    "with open('Artifacts/hit_tfidf2_features.pkl', 'rb') as filehandle:\n",
    "    hit_tfidf2_features = pickle.load(filehandle)\n",
    "with open('Artifacts/hit_tfidf3_features.pkl', 'rb') as filehandle:\n",
    "    hit_tfidf3_features = pickle.load(filehandle)"
   ]
  },
  {
   "cell_type": "markdown",
   "metadata": {},
   "source": [
    "# Pitcher Models"
   ]
  },
  {
   "cell_type": "code",
   "execution_count": 3,
   "metadata": {},
   "outputs": [
    {
     "name": "stdout",
     "output_type": "stream",
     "text": [
      "Accuracy: 0.804\n",
      "[[104  10   1]\n",
      " [ 12  11   0]\n",
      " [  4   2   4]]\n",
      "              precision    recall  f1-score   support\n",
      "\n",
      "         1.0       0.87      0.90      0.89       115\n",
      "         2.0       0.48      0.48      0.48        23\n",
      "         3.0       0.80      0.40      0.53        10\n",
      "\n",
      "    accuracy                           0.80       148\n",
      "   macro avg       0.71      0.59      0.63       148\n",
      "weighted avg       0.80      0.80      0.80       148\n",
      "\n"
     ]
    }
   ],
   "source": [
    "#1gram: lbfgs solver\n",
    "\n",
    "#Train-Test Split\n",
    "X_train, X_test, y_train, y_test = train_test_split(pit_tfidf1_features, pit['FV_r'], test_size=0.25, random_state=123)\n",
    "\n",
    "#Fit Model\n",
    "logit_pit_1gram_1 = LogisticRegression(multi_class = 'multinomial', solver = 'lbfgs', penalty = 'l2', class_weight = 'balanced', random_state=123)\n",
    "logit_pit_1gram_1.fit(X_train, y_train)\n",
    "\n",
    "#Predict on Test Set\n",
    "\n",
    "logit_pit_1gram_1_predictions = logit_pit_1gram_1.predict(X_test)\n",
    "\n",
    "# evaluation metrics\n",
    "print(\"Accuracy: %0.3f\"%accuracy_score(y_test, logit_pit_1gram_1_predictions))\n",
    "cnf_matrix = metrics.confusion_matrix(y_test, logit_pit_1gram_1_predictions)\n",
    "print(cnf_matrix)\n",
    "print(classification_report(y_test, logit_pit_1gram_1_predictions))"
   ]
  },
  {
   "cell_type": "code",
   "execution_count": 4,
   "metadata": {},
   "outputs": [
    {
     "name": "stdout",
     "output_type": "stream",
     "text": [
      "Accuracy: 0.804\n",
      "[[109   6   0]\n",
      " [ 13  10   0]\n",
      " [  4   6   0]]\n",
      "              precision    recall  f1-score   support\n",
      "\n",
      "         1.0       0.87      0.95      0.90       115\n",
      "         2.0       0.45      0.43      0.44        23\n",
      "         3.0       0.00      0.00      0.00        10\n",
      "\n",
      "    accuracy                           0.80       148\n",
      "   macro avg       0.44      0.46      0.45       148\n",
      "weighted avg       0.74      0.80      0.77       148\n",
      "\n"
     ]
    },
    {
     "name": "stderr",
     "output_type": "stream",
     "text": [
      "/Users/Jonathan/anaconda3/lib/python3.6/site-packages/sklearn/linear_model/sag.py:337: ConvergenceWarning: The max_iter was reached which means the coef_ did not converge\n",
      "  \"the coef_ did not converge\", ConvergenceWarning)\n",
      "/Users/Jonathan/anaconda3/lib/python3.6/site-packages/sklearn/metrics/classification.py:1437: UndefinedMetricWarning: Precision and F-score are ill-defined and being set to 0.0 in labels with no predicted samples.\n",
      "  'precision', 'predicted', average, warn_for)\n"
     ]
    }
   ],
   "source": [
    "#1gram: saga solver\n",
    "\n",
    "#Train-Test Split\n",
    "X_train, X_test, y_train, y_test = train_test_split(pit_tfidf1_features, pit['FV_r'], test_size=0.25, random_state=123)\n",
    "\n",
    "#Fit Model\n",
    "logit_pit_1gram_2 = LogisticRegression(multi_class = 'multinomial', solver = 'saga', penalty = 'l2', class_weight = 'balanced', max_iter = 1000, random_state=123)\n",
    "logit_pit_1gram_2.fit(X_train, y_train)\n",
    "\n",
    "#Predict on Test Set\n",
    "\n",
    "logit_pit_1gram_2_predictions = logit_pit_1gram_2.predict(X_test)\n",
    "\n",
    "# evaluation metrics\n",
    "print(\"Accuracy: %0.3f\"%accuracy_score(y_test, logit_pit_1gram_2_predictions))\n",
    "cnf_matrix = metrics.confusion_matrix(y_test, logit_pit_1gram_2_predictions)\n",
    "print(cnf_matrix)\n",
    "print(classification_report(y_test, logit_pit_1gram_2_predictions))"
   ]
  },
  {
   "cell_type": "code",
   "execution_count": 5,
   "metadata": {},
   "outputs": [
    {
     "name": "stdout",
     "output_type": "stream",
     "text": [
      "Accuracy: 0.811\n",
      "[[104  10   1]\n",
      " [ 11  12   0]\n",
      " [  3   3   4]]\n",
      "              precision    recall  f1-score   support\n",
      "\n",
      "         1.0       0.88      0.90      0.89       115\n",
      "         2.0       0.48      0.52      0.50        23\n",
      "         3.0       0.80      0.40      0.53        10\n",
      "\n",
      "    accuracy                           0.81       148\n",
      "   macro avg       0.72      0.61      0.64       148\n",
      "weighted avg       0.81      0.81      0.81       148\n",
      "\n"
     ]
    }
   ],
   "source": [
    "#2gram: lbfgs solver\n",
    "\n",
    "#Train-Test Split\n",
    "X_train, X_test, y_train, y_test = train_test_split(pit_tfidf2_features, pit['FV_r'], test_size=0.25, random_state=123)\n",
    "\n",
    "#Fit Model\n",
    "logit_pit_2gram_1 = LogisticRegression(multi_class = 'multinomial', solver = 'lbfgs', penalty = 'l2', class_weight = 'balanced', random_state=123)\n",
    "logit_pit_2gram_1.fit(X_train, y_train)\n",
    "\n",
    "#Predict on Test Set\n",
    "\n",
    "logit_pit_2gram_1_predictions = logit_pit_2gram_1.predict(X_test)\n",
    "\n",
    "# evaluation metrics\n",
    "print(\"Accuracy: %0.3f\"%accuracy_score(y_test, logit_pit_2gram_1_predictions))\n",
    "cnf_matrix = metrics.confusion_matrix(y_test, logit_pit_2gram_1_predictions)\n",
    "print(cnf_matrix)\n",
    "print(classification_report(y_test, logit_pit_2gram_1_predictions))"
   ]
  },
  {
   "cell_type": "code",
   "execution_count": 6,
   "metadata": {},
   "outputs": [
    {
     "name": "stdout",
     "output_type": "stream",
     "text": [
      "Accuracy: 0.777\n",
      "[[97 17  1]\n",
      " [ 9 14  0]\n",
      " [ 3  3  4]]\n",
      "              precision    recall  f1-score   support\n",
      "\n",
      "         1.0       0.89      0.84      0.87       115\n",
      "         2.0       0.41      0.61      0.49        23\n",
      "         3.0       0.80      0.40      0.53        10\n",
      "\n",
      "    accuracy                           0.78       148\n",
      "   macro avg       0.70      0.62      0.63       148\n",
      "weighted avg       0.81      0.78      0.79       148\n",
      "\n"
     ]
    },
    {
     "name": "stderr",
     "output_type": "stream",
     "text": [
      "/Users/Jonathan/anaconda3/lib/python3.6/site-packages/sklearn/linear_model/sag.py:337: ConvergenceWarning: The max_iter was reached which means the coef_ did not converge\n",
      "  \"the coef_ did not converge\", ConvergenceWarning)\n"
     ]
    }
   ],
   "source": [
    "#2gram: saga solver\n",
    "\n",
    "#Train-Test Split\n",
    "X_train, X_test, y_train, y_test = train_test_split(pit_tfidf2_features, pit['FV_r'], test_size=0.25, random_state=123)\n",
    "\n",
    "#Fit Model\n",
    "logit_pit_2gram_2 = LogisticRegression(multi_class = 'multinomial', solver = 'saga', penalty = 'l2', class_weight = 'balanced', max_iter = 1000, random_state=123)\n",
    "logit_pit_2gram_2.fit(X_train, y_train)\n",
    "\n",
    "#Predict on Test Set\n",
    "\n",
    "logit_pit_2gram_2_predictions = logit_pit_2gram_2.predict(X_test)\n",
    "\n",
    "# evaluation metrics\n",
    "print(\"Accuracy: %0.3f\"%accuracy_score(y_test, logit_pit_2gram_2_predictions))\n",
    "cnf_matrix = metrics.confusion_matrix(y_test, logit_pit_2gram_2_predictions)\n",
    "print(cnf_matrix)\n",
    "print(classification_report(y_test, logit_pit_2gram_2_predictions))"
   ]
  },
  {
   "cell_type": "code",
   "execution_count": 7,
   "metadata": {},
   "outputs": [
    {
     "name": "stdout",
     "output_type": "stream",
     "text": [
      "Accuracy: 0.804\n",
      "[[103  11   1]\n",
      " [ 11  12   0]\n",
      " [  3   3   4]]\n",
      "              precision    recall  f1-score   support\n",
      "\n",
      "         1.0       0.88      0.90      0.89       115\n",
      "         2.0       0.46      0.52      0.49        23\n",
      "         3.0       0.80      0.40      0.53        10\n",
      "\n",
      "    accuracy                           0.80       148\n",
      "   macro avg       0.71      0.61      0.64       148\n",
      "weighted avg       0.81      0.80      0.80       148\n",
      "\n"
     ]
    }
   ],
   "source": [
    "#3gram: lbfgs solver\n",
    "\n",
    "#Train-Test Split\n",
    "X_train, X_test, y_train, y_test = train_test_split(pit_tfidf3_features, pit['FV_r'], test_size=0.25, random_state=123)\n",
    "\n",
    "#Fit Model\n",
    "logit_pit_3gram_1 = LogisticRegression(multi_class = 'multinomial', solver = 'lbfgs', penalty = 'l2', class_weight = 'balanced', random_state=123)\n",
    "logit_pit_3gram_1.fit(X_train, y_train)\n",
    "\n",
    "#Predict on Test Set\n",
    "\n",
    "logit_pit_3gram_1_predictions = logit_pit_3gram_1.predict(X_test)\n",
    "\n",
    "# evaluation metrics\n",
    "print(\"Accuracy: %0.3f\"%accuracy_score(y_test, logit_pit_3gram_1_predictions))\n",
    "cnf_matrix = metrics.confusion_matrix(y_test, logit_pit_3gram_1_predictions)\n",
    "print(cnf_matrix)\n",
    "print(classification_report(y_test, logit_pit_3gram_1_predictions))"
   ]
  },
  {
   "cell_type": "code",
   "execution_count": 8,
   "metadata": {},
   "outputs": [
    {
     "name": "stdout",
     "output_type": "stream",
     "text": [
      "Accuracy: 0.764\n",
      "[[95 19  1]\n",
      " [ 8 14  1]\n",
      " [ 3  3  4]]\n",
      "              precision    recall  f1-score   support\n",
      "\n",
      "         1.0       0.90      0.83      0.86       115\n",
      "         2.0       0.39      0.61      0.47        23\n",
      "         3.0       0.67      0.40      0.50        10\n",
      "\n",
      "    accuracy                           0.76       148\n",
      "   macro avg       0.65      0.61      0.61       148\n",
      "weighted avg       0.80      0.76      0.78       148\n",
      "\n"
     ]
    },
    {
     "name": "stderr",
     "output_type": "stream",
     "text": [
      "/Users/Jonathan/anaconda3/lib/python3.6/site-packages/sklearn/linear_model/sag.py:337: ConvergenceWarning: The max_iter was reached which means the coef_ did not converge\n",
      "  \"the coef_ did not converge\", ConvergenceWarning)\n"
     ]
    }
   ],
   "source": [
    "#3gram: saga solver\n",
    "\n",
    "#Train-Test Split\n",
    "X_train, X_test, y_train, y_test = train_test_split(pit_tfidf3_features, pit['FV_r'], test_size=0.25, random_state=123)\n",
    "\n",
    "#Fit Model\n",
    "logit_pit_3gram_2 = LogisticRegression(multi_class = 'multinomial', solver = 'saga', penalty = 'l2', class_weight = 'balanced', max_iter = 1000, random_state=123)\n",
    "logit_pit_3gram_2.fit(X_train, y_train)\n",
    "\n",
    "#Predict on Test Set\n",
    "\n",
    "logit_pit_3gram_2_predictions = logit_pit_3gram_2.predict(X_test)\n",
    "\n",
    "# evaluation metrics\n",
    "print(\"Accuracy: %0.3f\"%accuracy_score(y_test, logit_pit_3gram_2_predictions))\n",
    "cnf_matrix = metrics.confusion_matrix(y_test, logit_pit_3gram_2_predictions)\n",
    "print(cnf_matrix)\n",
    "print(classification_report(y_test, logit_pit_3gram_2_predictions))"
   ]
  },
  {
   "cell_type": "markdown",
   "metadata": {},
   "source": [
    "# Hitter Models"
   ]
  },
  {
   "cell_type": "code",
   "execution_count": 9,
   "metadata": {},
   "outputs": [
    {
     "name": "stdout",
     "output_type": "stream",
     "text": [
      "Accuracy: 0.617\n",
      "[[70 21  8]\n",
      " [17 26  3]\n",
      " [ 3 10  4]]\n",
      "              precision    recall  f1-score   support\n",
      "\n",
      "         1.0       0.78      0.71      0.74        99\n",
      "         2.0       0.46      0.57      0.50        46\n",
      "         3.0       0.27      0.24      0.25        17\n",
      "\n",
      "    accuracy                           0.62       162\n",
      "   macro avg       0.50      0.50      0.50       162\n",
      "weighted avg       0.63      0.62      0.62       162\n",
      "\n"
     ]
    }
   ],
   "source": [
    "#1gram: lbfgs solver\n",
    "\n",
    "#Train-Test Split\n",
    "X_train, X_test, y_train, y_test = train_test_split(hit_tfidf1_features, hit['FV_r'], test_size=0.25, random_state=123)\n",
    "\n",
    "#Fit Model\n",
    "logit_hit_1gram_1 = LogisticRegression(multi_class = 'multinomial', solver = 'lbfgs', penalty = 'l2', class_weight = 'balanced', random_state=123)\n",
    "logit_hit_1gram_1.fit(X_train, y_train)\n",
    "\n",
    "#Predict on Test Set\n",
    "\n",
    "logit_hit_1gram_1_predictions = logit_hit_1gram_1.predict(X_test)\n",
    "\n",
    "# evaluation metrics\n",
    "print(\"Accuracy: %0.3f\"%accuracy_score(y_test, logit_hit_1gram_1_predictions))\n",
    "cnf_matrix = metrics.confusion_matrix(y_test, logit_hit_1gram_1_predictions)\n",
    "print(cnf_matrix)\n",
    "print(classification_report(y_test, logit_hit_1gram_1_predictions))"
   ]
  },
  {
   "cell_type": "code",
   "execution_count": 10,
   "metadata": {},
   "outputs": [
    {
     "name": "stdout",
     "output_type": "stream",
     "text": [
      "Accuracy: 0.617\n",
      "[[72 27  0]\n",
      " [18 28  0]\n",
      " [ 4 13  0]]\n",
      "              precision    recall  f1-score   support\n",
      "\n",
      "         1.0       0.77      0.73      0.75        99\n",
      "         2.0       0.41      0.61      0.49        46\n",
      "         3.0       0.00      0.00      0.00        17\n",
      "\n",
      "    accuracy                           0.62       162\n",
      "   macro avg       0.39      0.45      0.41       162\n",
      "weighted avg       0.59      0.62      0.60       162\n",
      "\n"
     ]
    },
    {
     "name": "stderr",
     "output_type": "stream",
     "text": [
      "/Users/Jonathan/anaconda3/lib/python3.6/site-packages/sklearn/linear_model/sag.py:337: ConvergenceWarning: The max_iter was reached which means the coef_ did not converge\n",
      "  \"the coef_ did not converge\", ConvergenceWarning)\n",
      "/Users/Jonathan/anaconda3/lib/python3.6/site-packages/sklearn/metrics/classification.py:1437: UndefinedMetricWarning: Precision and F-score are ill-defined and being set to 0.0 in labels with no predicted samples.\n",
      "  'precision', 'predicted', average, warn_for)\n"
     ]
    }
   ],
   "source": [
    "#1gram: saga solver\n",
    "\n",
    "#Train-Test Split\n",
    "X_train, X_test, y_train, y_test = train_test_split(hit_tfidf1_features, hit['FV_r'], test_size=0.25, random_state=123)\n",
    "\n",
    "#Fit Model\n",
    "logit_hit_1gram_2 = LogisticRegression(multi_class = 'multinomial', solver = 'saga', penalty = 'l2', class_weight = 'balanced', max_iter = 1000, random_state=123)\n",
    "logit_hit_1gram_2.fit(X_train, y_train)\n",
    "\n",
    "#Predict on Test Set\n",
    "\n",
    "logit_hit_1gram_2_predictions = logit_hit_1gram_2.predict(X_test)\n",
    "\n",
    "# evaluation metrics\n",
    "print(\"Accuracy: %0.3f\"%accuracy_score(y_test, logit_hit_1gram_2_predictions))\n",
    "cnf_matrix = metrics.confusion_matrix(y_test, logit_hit_1gram_2_predictions)\n",
    "print(cnf_matrix)\n",
    "print(classification_report(y_test, logit_hit_1gram_2_predictions))"
   ]
  },
  {
   "cell_type": "code",
   "execution_count": 11,
   "metadata": {},
   "outputs": [
    {
     "name": "stdout",
     "output_type": "stream",
     "text": [
      "Accuracy: 0.630\n",
      "[[70 24  5]\n",
      " [16 28  2]\n",
      " [ 2 11  4]]\n",
      "              precision    recall  f1-score   support\n",
      "\n",
      "         1.0       0.80      0.71      0.75        99\n",
      "         2.0       0.44      0.61      0.51        46\n",
      "         3.0       0.36      0.24      0.29        17\n",
      "\n",
      "    accuracy                           0.63       162\n",
      "   macro avg       0.53      0.52      0.52       162\n",
      "weighted avg       0.65      0.63      0.63       162\n",
      "\n"
     ]
    }
   ],
   "source": [
    "#2gram: lbfgs solver\n",
    "\n",
    "#Train-Test Split\n",
    "X_train, X_test, y_train, y_test = train_test_split(hit_tfidf2_features, hit['FV_r'], test_size=0.25, random_state=123)\n",
    "\n",
    "#Fit Model\n",
    "logit_hit_2gram_1 = LogisticRegression(multi_class = 'multinomial', solver = 'lbfgs', penalty = 'l2', class_weight = 'balanced', random_state=123)\n",
    "logit_hit_2gram_1.fit(X_train, y_train)\n",
    "\n",
    "#Predict on Test Set\n",
    "\n",
    "logit_hit_2gram_1_predictions = logit_hit_2gram_1.predict(X_test)\n",
    "\n",
    "# evaluation metrics\n",
    "print(\"Accuracy: %0.3f\"%accuracy_score(y_test, logit_hit_2gram_1_predictions))\n",
    "cnf_matrix = metrics.confusion_matrix(y_test, logit_hit_2gram_1_predictions)\n",
    "print(cnf_matrix)\n",
    "print(classification_report(y_test, logit_hit_2gram_1_predictions))"
   ]
  },
  {
   "cell_type": "code",
   "execution_count": 12,
   "metadata": {},
   "outputs": [
    {
     "name": "stdout",
     "output_type": "stream",
     "text": [
      "Accuracy: 0.617\n",
      "[[70 26  3]\n",
      " [17 29  0]\n",
      " [ 5 11  1]]\n",
      "              precision    recall  f1-score   support\n",
      "\n",
      "         1.0       0.76      0.71      0.73        99\n",
      "         2.0       0.44      0.63      0.52        46\n",
      "         3.0       0.25      0.06      0.10        17\n",
      "\n",
      "    accuracy                           0.62       162\n",
      "   macro avg       0.48      0.47      0.45       162\n",
      "weighted avg       0.62      0.62      0.60       162\n",
      "\n"
     ]
    },
    {
     "name": "stderr",
     "output_type": "stream",
     "text": [
      "/Users/Jonathan/anaconda3/lib/python3.6/site-packages/sklearn/linear_model/sag.py:337: ConvergenceWarning: The max_iter was reached which means the coef_ did not converge\n",
      "  \"the coef_ did not converge\", ConvergenceWarning)\n"
     ]
    }
   ],
   "source": [
    "#2gram: saga solver\n",
    "\n",
    "#Train-Test Split\n",
    "X_train, X_test, y_train, y_test = train_test_split(hit_tfidf2_features, hit['FV_r'], test_size=0.25, random_state=123)\n",
    "\n",
    "#Fit Model\n",
    "logit_hit_2gram_2 = LogisticRegression(multi_class = 'multinomial', solver = 'saga', penalty = 'l2', class_weight = 'balanced', max_iter = 1000, random_state=123)\n",
    "logit_hit_2gram_2.fit(X_train, y_train)\n",
    "\n",
    "#Predict on Test Set\n",
    "\n",
    "logit_hit_2gram_2_predictions = logit_hit_2gram_2.predict(X_test)\n",
    "\n",
    "# evaluation metrics\n",
    "print(\"Accuracy: %0.3f\"%accuracy_score(y_test, logit_hit_2gram_2_predictions))\n",
    "cnf_matrix = metrics.confusion_matrix(y_test, logit_hit_2gram_2_predictions)\n",
    "print(cnf_matrix)\n",
    "print(classification_report(y_test, logit_hit_2gram_2_predictions))"
   ]
  },
  {
   "cell_type": "code",
   "execution_count": 13,
   "metadata": {},
   "outputs": [
    {
     "name": "stdout",
     "output_type": "stream",
     "text": [
      "Accuracy: 0.636\n",
      "[[70 24  5]\n",
      " [15 29  2]\n",
      " [ 2 11  4]]\n",
      "              precision    recall  f1-score   support\n",
      "\n",
      "         1.0       0.80      0.71      0.75        99\n",
      "         2.0       0.45      0.63      0.53        46\n",
      "         3.0       0.36      0.24      0.29        17\n",
      "\n",
      "    accuracy                           0.64       162\n",
      "   macro avg       0.54      0.52      0.52       162\n",
      "weighted avg       0.66      0.64      0.64       162\n",
      "\n"
     ]
    }
   ],
   "source": [
    "#3gram: lbfgs solver\n",
    "\n",
    "#Train-Test Split\n",
    "X_train, X_test, y_train, y_test = train_test_split(hit_tfidf3_features, hit['FV_r'], test_size=0.25, random_state=123)\n",
    "\n",
    "#Fit Model\n",
    "logit_hit_3gram_1 = LogisticRegression(multi_class = 'multinomial', solver = 'lbfgs', penalty = 'l2', class_weight = 'balanced', random_state=123)\n",
    "logit_hit_3gram_1.fit(X_train, y_train)\n",
    "\n",
    "#Predict on Test Set\n",
    "\n",
    "logit_hit_3gram_1_predictions = logit_hit_3gram_1.predict(X_test)\n",
    "\n",
    "# evaluation metrics\n",
    "print(\"Accuracy: %0.3f\"%accuracy_score(y_test, logit_hit_3gram_1_predictions))\n",
    "cnf_matrix = metrics.confusion_matrix(y_test, logit_hit_3gram_1_predictions)\n",
    "print(cnf_matrix)\n",
    "print(classification_report(y_test, logit_hit_3gram_1_predictions))"
   ]
  },
  {
   "cell_type": "code",
   "execution_count": 14,
   "metadata": {},
   "outputs": [
    {
     "name": "stdout",
     "output_type": "stream",
     "text": [
      "Accuracy: 0.636\n",
      "[[73 25  1]\n",
      " [16 30  0]\n",
      " [ 4 13  0]]\n",
      "              precision    recall  f1-score   support\n",
      "\n",
      "         1.0       0.78      0.74      0.76        99\n",
      "         2.0       0.44      0.65      0.53        46\n",
      "         3.0       0.00      0.00      0.00        17\n",
      "\n",
      "    accuracy                           0.64       162\n",
      "   macro avg       0.41      0.46      0.43       162\n",
      "weighted avg       0.60      0.64      0.61       162\n",
      "\n"
     ]
    },
    {
     "name": "stderr",
     "output_type": "stream",
     "text": [
      "/Users/Jonathan/anaconda3/lib/python3.6/site-packages/sklearn/linear_model/sag.py:337: ConvergenceWarning: The max_iter was reached which means the coef_ did not converge\n",
      "  \"the coef_ did not converge\", ConvergenceWarning)\n"
     ]
    }
   ],
   "source": [
    "#3gram: saga solver\n",
    "\n",
    "#Train-Test Split\n",
    "X_train, X_test, y_train, y_test = train_test_split(hit_tfidf3_features, hit['FV_r'], test_size=0.25, random_state=123)\n",
    "\n",
    "#Fit Model\n",
    "logit_hit_3gram_2 = LogisticRegression(multi_class = 'multinomial', solver = 'saga', penalty = 'l2', class_weight = 'balanced', max_iter = 1000, random_state=123)\n",
    "logit_hit_3gram_2.fit(X_train, y_train)\n",
    "\n",
    "#Predict on Test Set\n",
    "\n",
    "logit_hit_3gram_2_predictions = logit_hit_3gram_2.predict(X_test)\n",
    "\n",
    "# evaluation metrics\n",
    "print(\"Accuracy: %0.3f\"%accuracy_score(y_test, logit_hit_3gram_2_predictions))\n",
    "cnf_matrix = metrics.confusion_matrix(y_test, logit_hit_3gram_2_predictions)\n",
    "print(cnf_matrix)\n",
    "print(classification_report(y_test, logit_hit_3gram_2_predictions))"
   ]
  },
  {
   "cell_type": "code",
   "execution_count": 30,
   "metadata": {},
   "outputs": [],
   "source": [
    "#Save best model(s)\n",
    "\n",
    "with open('Artifacts/logit_pit_2gram_1.pkl', 'wb') as filehandle:\n",
    "    pickle.dump(logit_pit_2gram_1, filehandle)"
   ]
  }
 ],
 "metadata": {
  "kernelspec": {
   "display_name": "Python 3",
   "language": "python",
   "name": "python3"
  },
  "language_info": {
   "codemirror_mode": {
    "name": "ipython",
    "version": 3
   },
   "file_extension": ".py",
   "mimetype": "text/x-python",
   "name": "python",
   "nbconvert_exporter": "python",
   "pygments_lexer": "ipython3",
   "version": "3.6.8"
  }
 },
 "nbformat": 4,
 "nbformat_minor": 2
}
