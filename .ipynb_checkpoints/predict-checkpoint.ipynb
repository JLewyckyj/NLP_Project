{
 "cells": [
  {
   "cell_type": "code",
   "execution_count": 1,
   "metadata": {},
   "outputs": [],
   "source": [
    "import matplotlib\n",
    "%matplotlib inline\n",
    "import matplotlib.pyplot as plt\n",
    "import pandas as pd\n",
    "import string\n",
    "import json\n",
    "import numpy as np\n",
    "import re\n",
    "import nltk\n",
    "from nltk.tokenize import sent_tokenize, word_tokenize\n",
    "import pickle\n",
    "from sklearn import metrics\n",
    "from sklearn.feature_extraction.text import TfidfVectorizer\n",
    "from sklearn.model_selection import train_test_split\n",
    "from sklearn.linear_model import LogisticRegression\n",
    "from sklearn.svm import LinearSVC\n",
    "from sklearn.metrics import accuracy_score, confusion_matrix, precision_score, recall_score, f1_score, classification_report"
   ]
  },
  {
   "cell_type": "code",
   "execution_count": 2,
   "metadata": {},
   "outputs": [],
   "source": [
    "#Load models from file\n",
    "\n",
    "with open('Artifacts/logit_pit_2gram_1.pkl', 'rb') as filehandle:\n",
    "    logit_pit_2gram_1 = pickle.load(filehandle) \n",
    "    \n",
    "#Load tf-idf vectorizors from file\n",
    "\n",
    "with open('Artifacts/pit_tfidf2.pkl', 'rb') as filehandle:\n",
    "    pit_tfidf2 = pickle.load(filehandle)  \n"
   ]
  },
  {
   "cell_type": "code",
   "execution_count": 3,
   "metadata": {},
   "outputs": [],
   "source": [
    "#Load reviews from file\n",
    "\n",
    "##Good pitcher review\n",
    "with open (\"Predictions/Input/good_pitcher.txt\", \"r\") as myfile:\n",
    "    good_pitcher = myfile.readlines()\n",
    "\n",
    "##Bad pitcher review\n",
    "with open (\"Predictions/Input/bad_pitcher.txt\", \"r\") as myfile:\n",
    "    bad_pitcher = myfile.readlines()\n",
    "    \n",
    "pitchers = good_pitcher + bad_pitcher"
   ]
  },
  {
   "cell_type": "code",
   "execution_count": 4,
   "metadata": {},
   "outputs": [],
   "source": [
    "#Pre-Processing\n",
    "\n",
    "##Pitchers\n",
    "#To lower case\n",
    "pitchers = [x.lower() for x in pitchers]\n",
    "#Remove punctuation\n",
    "pitchers = [''.join(c for c in s if c not in string.punctuation) for s in pitchers]\n",
    "#Remove numbers\n",
    "pattern = '[0-9]'\n",
    "pitchers = [re.sub(pattern, '', i) for i in pitchers]"
   ]
  },
  {
   "cell_type": "code",
   "execution_count": 5,
   "metadata": {},
   "outputs": [],
   "source": [
    "pitchers_df = pit_tfidf2.transform(pitchers).toarray()\n",
    "pitchers_df = pd.DataFrame(pitchers_df)"
   ]
  },
  {
   "cell_type": "code",
   "execution_count": 6,
   "metadata": {},
   "outputs": [],
   "source": [
    "pitchers_preds = list(logit_pit_2gram_1.predict(pitchers_df))"
   ]
  },
  {
   "cell_type": "code",
   "execution_count": 7,
   "metadata": {},
   "outputs": [],
   "source": [
    "p = {'text' : pitchers, 'label': pitchers_preds}\n",
    "pitchers_output = pd.DataFrame(p)"
   ]
  },
  {
   "cell_type": "code",
   "execution_count": 8,
   "metadata": {},
   "outputs": [],
   "source": [
    "with open('Predictions/Output/pitchers_prediction.json', 'w') as fp:\n",
    "    json.dump(pitchers_output.to_json(orient='records'), fp)"
   ]
  }
 ],
 "metadata": {
  "kernelspec": {
   "display_name": "Python 3",
   "language": "python",
   "name": "python3"
  },
  "language_info": {
   "codemirror_mode": {
    "name": "ipython",
    "version": 3
   },
   "file_extension": ".py",
   "mimetype": "text/x-python",
   "name": "python",
   "nbconvert_exporter": "python",
   "pygments_lexer": "ipython3",
   "version": "3.6.8"
  }
 },
 "nbformat": 4,
 "nbformat_minor": 2
}
